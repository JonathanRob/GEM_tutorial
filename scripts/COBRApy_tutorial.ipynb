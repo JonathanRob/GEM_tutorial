{
 "cells": [
  {
   "cell_type": "markdown",
   "metadata": {},
   "source": [
    "# GEM Tutorial with COBRApy"
   ]
  },
  {
   "cell_type": "code",
   "execution_count": null,
   "metadata": {},
   "outputs": [],
   "source": [
    "import cobra\n",
    "import cobra.test\n",
    "import os"
   ]
  },
  {
   "cell_type": "markdown",
   "metadata": {},
   "source": [
    "## Take a look at the global configuration object"
   ]
  },
  {
   "cell_type": "code",
   "execution_count": null,
   "metadata": {},
   "outputs": [],
   "source": [
    "cobra_config = cobra.Configuration()"
   ]
  },
  {
   "cell_type": "code",
   "execution_count": null,
   "metadata": {},
   "outputs": [],
   "source": [
    "cobra_config"
   ]
  },
  {
   "cell_type": "code",
   "execution_count": null,
   "metadata": {},
   "outputs": [],
   "source": [
    "cobra_config.bounds"
   ]
  },
  {
   "cell_type": "markdown",
   "metadata": {},
   "source": [
    "## Import and inspect a small test model"
   ]
  },
  {
   "cell_type": "code",
   "execution_count": null,
   "metadata": {},
   "outputs": [],
   "source": [
    "# The cobra package ships with several test models in different formats\n",
    "data_dir = cobra.test.data_dir\n",
    "os.listdir(data_dir)[:10]"
   ]
  },
  {
   "cell_type": "code",
   "execution_count": null,
   "metadata": {},
   "outputs": [],
   "source": [
    "# Load the \"textbook\" model from the SBML (.xml) file\n",
    "model = cobra.io.read_sbml_model(os.path.join(data_dir, \"textbook.xml.gz\"))\n",
    "model"
   ]
  },
  {
   "cell_type": "code",
   "execution_count": null,
   "metadata": {},
   "outputs": [],
   "source": [
    "# list the first few reactions in the model\n",
    "for x in model.reactions[:10]:\n",
    "    print(\"%s : %s\" % (x.id, x.reaction))"
   ]
  },
  {
   "cell_type": "code",
   "execution_count": null,
   "metadata": {},
   "outputs": [],
   "source": [
    "# inspect a reaction (e.g., AKGDH) in more detail\n",
    "model.reactions.AKGDH"
   ]
  },
  {
   "cell_type": "code",
   "execution_count": null,
   "metadata": {},
   "outputs": [],
   "source": [
    "# list the first few metabolites in the model\n",
    "for x in model.metabolites[:10]:\n",
    "    print(\"%s : %s\" % (x.id, x.formula))"
   ]
  },
  {
   "cell_type": "code",
   "execution_count": null,
   "metadata": {},
   "outputs": [],
   "source": [
    "# inspect the 3pg_c metabolite in more detail\n",
    "model.metabolites.get_by_id('3pg_c')"
   ]
  },
  {
   "cell_type": "markdown",
   "metadata": {},
   "source": [
    "## Add a new reaction to the model\n",
    "For this example, we will add the aspartate aminotransferase reaction to enable the synthesis of aspartate:\n",
    "\n",
    "`L-glutamate + oxaloacetate <==> 2-oxoglutarate + L-aspartate`"
   ]
  },
  {
   "cell_type": "markdown",
   "metadata": {},
   "source": [
    "### Create and edit the reaction object"
   ]
  },
  {
   "cell_type": "code",
   "execution_count": null,
   "metadata": {},
   "outputs": [],
   "source": [
    "# create a template reaction and determine what information we need to provide\n",
    "reaction = cobra.Reaction('ASPAMTR')\n",
    "reaction"
   ]
  },
  {
   "cell_type": "code",
   "execution_count": null,
   "metadata": {},
   "outputs": [],
   "source": [
    "# add the reaction name\n",
    "reaction.name = 'aspartate aminotransferase'"
   ]
  },
  {
   "cell_type": "code",
   "execution_count": null,
   "metadata": {},
   "outputs": [],
   "source": [
    "# we need to find the IDs of the metabolites in the reaction\n",
    "met_patterns = ['glutamate', 'oxaloacetate', 'oxoglutarate', 'aspartate']\n",
    "\n",
    "for met in model.metabolites:\n",
    "    if any([x in met.name.lower() for x in met_patterns]):\n",
    "        print(\"%s : %s\" % (met.id, met.name))"
   ]
  },
  {
   "cell_type": "markdown",
   "metadata": {},
   "source": [
    "Two interesting observations:\n",
    "1. There are two instances of `2-Oxoglutarate` and `L-Glutamate`\n",
    "2. Aspartate is not yet in the model\n",
    "\n",
    "For the first point, note that the `_c` and `_e` suffixes represent the compartment to which the metabolite belongs."
   ]
  },
  {
   "cell_type": "code",
   "execution_count": null,
   "metadata": {},
   "outputs": [],
   "source": [
    "# view model compartments\n",
    "model.compartments"
   ]
  },
  {
   "cell_type": "markdown",
   "metadata": {},
   "source": [
    "We want to add our reaction to the cytosol (`c`) compartment, so we will use the `_c` form of the metabolites.\n",
    "\n",
    "For the second point, we will need to add aspartate to the model."
   ]
  },
  {
   "cell_type": "markdown",
   "metadata": {},
   "source": [
    "### Create a new metabolite object"
   ]
  },
  {
   "cell_type": "code",
   "execution_count": null,
   "metadata": {},
   "outputs": [],
   "source": [
    "# create the aspartate metabolite\n",
    "asp_c = cobra.Metabolite('asp_c')\n",
    "asp_c  # view its (missing) properties"
   ]
  },
  {
   "cell_type": "code",
   "execution_count": null,
   "metadata": {},
   "outputs": [],
   "source": [
    "# fill in some information about the new aspartate metabolite\n",
    "asp_c.name = 'L-Aspartate'\n",
    "asp_c.formula = 'C4H6NO4'\n",
    "asp_c.compartment='c'"
   ]
  },
  {
   "cell_type": "code",
   "execution_count": null,
   "metadata": {},
   "outputs": [],
   "source": [
    "# now we can add the metabolites to the new aspartate aminotransferase reaction\n",
    "reaction.add_metabolites({\n",
    "    model.metabolites.glu__L_c: -1.0,\n",
    "    model.metabolites.oaa_c: -1.0,\n",
    "    model.metabolites.akg_c: 1.0,\n",
    "    asp_c: 1.0\n",
    "})"
   ]
  },
  {
   "cell_type": "code",
   "execution_count": null,
   "metadata": {},
   "outputs": [],
   "source": [
    "# view the reaction details to verify that it looks correct\n",
    "reaction"
   ]
  },
  {
   "cell_type": "code",
   "execution_count": null,
   "metadata": {},
   "outputs": [],
   "source": [
    "# update the reversibility of the reaction (should be reversible)\n",
    "reaction.reversibility"
   ]
  },
  {
   "cell_type": "code",
   "execution_count": null,
   "metadata": {},
   "outputs": [],
   "source": [
    "reaction.reversibility = True  # we cannot directly edit the \"reversibility\" field"
   ]
  },
  {
   "cell_type": "code",
   "execution_count": null,
   "metadata": {},
   "outputs": [],
   "source": [
    "# instead we need to change the lower bound of the reaction\n",
    "reaction.lower_bound = -1000\n",
    "reaction.reversibility  # verify that the reversibilty has been updated"
   ]
  },
  {
   "cell_type": "code",
   "execution_count": null,
   "metadata": {},
   "outputs": [],
   "source": [
    "# note that the equation now shows the double-sided arrow \"<=>\"\n",
    "reaction"
   ]
  },
  {
   "cell_type": "markdown",
   "metadata": {},
   "source": [
    "#### Add a gene-protein-reaction (GPR) rule to the reaction"
   ]
  },
  {
   "cell_type": "code",
   "execution_count": null,
   "metadata": {},
   "outputs": [],
   "source": [
    "# aspartate aminotrasferase is encoded by aspC (b0928) in E. coli\n",
    "reaction.gene_reaction_rule = 'b0928'\n",
    "reaction"
   ]
  },
  {
   "cell_type": "code",
   "execution_count": null,
   "metadata": {},
   "outputs": [],
   "source": [
    "# gene(s) in the GPR rule are automatically added to the \"genes\" field of the reaction object\n",
    "reaction.genes"
   ]
  },
  {
   "cell_type": "markdown",
   "metadata": {},
   "source": [
    "### Add the reaction to the model"
   ]
  },
  {
   "cell_type": "code",
   "execution_count": null,
   "metadata": {},
   "outputs": [],
   "source": [
    "# add the reaction (provided as a list) to the model\n",
    "model.add_reactions([reaction])"
   ]
  },
  {
   "cell_type": "code",
   "execution_count": null,
   "metadata": {},
   "outputs": [],
   "source": [
    "# verify that the new reaction, metabolite, and gene are now in the model\n",
    "model.reactions.ASPAMTR"
   ]
  },
  {
   "cell_type": "code",
   "execution_count": null,
   "metadata": {},
   "outputs": [],
   "source": [
    "model.metabolites.asp_c"
   ]
  },
  {
   "cell_type": "code",
   "execution_count": null,
   "metadata": {},
   "outputs": [],
   "source": [
    "model.genes.b0928.name = 'aspC'  # we can also provide the gene name\n",
    "model.genes.b0928"
   ]
  },
  {
   "cell_type": "code",
   "execution_count": null,
   "metadata": {},
   "outputs": [],
   "source": []
  },
  {
   "cell_type": "markdown",
   "metadata": {},
   "source": [
    "## Flux balance analysis (FBA)"
   ]
  },
  {
   "cell_type": "markdown",
   "metadata": {},
   "source": [
    "### Inspect the optimization objective"
   ]
  },
  {
   "cell_type": "code",
   "execution_count": null,
   "metadata": {},
   "outputs": [],
   "source": [
    "# using cobra.util.solver:\n",
    "from cobra.util.solver import linear_reaction_coefficients\n",
    "linear_reaction_coefficients(model)"
   ]
  },
  {
   "cell_type": "code",
   "execution_count": null,
   "metadata": {},
   "outputs": [],
   "source": [
    "# alternative: use list comprehension\n",
    "[x for x in model.reactions if x.objective_coefficient != 0]"
   ]
  },
  {
   "cell_type": "code",
   "execution_count": null,
   "metadata": {},
   "outputs": [],
   "source": [
    "# view reaction details\n",
    "model.reactions.Biomass_Ecoli_core"
   ]
  },
  {
   "cell_type": "code",
   "execution_count": null,
   "metadata": {},
   "outputs": [],
   "source": [
    "# print entire reaction stoichiometry\n",
    "model.reactions.Biomass_Ecoli_core.build_reaction_string()"
   ]
  },
  {
   "cell_type": "code",
   "execution_count": null,
   "metadata": {},
   "outputs": [],
   "source": [
    "# view the objective direction (maximize or minimize the reaction flux)\n",
    "model.objective_direction"
   ]
  },
  {
   "cell_type": "markdown",
   "metadata": {},
   "source": [
    "### Perform the optimization"
   ]
  },
  {
   "cell_type": "code",
   "execution_count": null,
   "metadata": {},
   "outputs": [],
   "source": [
    "# run FBA\n",
    "solution = model.optimize()\n",
    "solution"
   ]
  },
  {
   "cell_type": "code",
   "execution_count": null,
   "metadata": {},
   "outputs": [],
   "source": [
    "# view a summary of the returned optimal flux distribution\n",
    "model.summary()"
   ]
  },
  {
   "cell_type": "code",
   "execution_count": null,
   "metadata": {},
   "outputs": [],
   "source": [
    "# get a summary of the fluxes involving a specific metabolite\n",
    "model.metabolites.atp_c.summary()"
   ]
  },
  {
   "cell_type": "code",
   "execution_count": null,
   "metadata": {},
   "outputs": [],
   "source": [
    "# get a summary of the fluxes involving a specific reaction\n",
    "model.reactions.GAPD.summary()"
   ]
  },
  {
   "cell_type": "markdown",
   "metadata": {},
   "source": [
    "### Change the optimization objective"
   ]
  },
  {
   "cell_type": "code",
   "execution_count": null,
   "metadata": {},
   "outputs": [],
   "source": [
    "# let us now optimize the flux through ATPM (\"ATP Maintenance\"), which is just the hydrolysis of ATP\n",
    "model.reactions.ATPM.build_reaction_string()"
   ]
  },
  {
   "cell_type": "code",
   "execution_count": null,
   "metadata": {},
   "outputs": [],
   "source": [
    "# change the objective to ATPM\n",
    "model.objective = 'ATPM'"
   ]
  },
  {
   "cell_type": "code",
   "execution_count": null,
   "metadata": {},
   "outputs": [],
   "source": [
    "# run FBA with the new objective\n",
    "solution = model.optimize()"
   ]
  },
  {
   "cell_type": "code",
   "execution_count": null,
   "metadata": {},
   "outputs": [],
   "source": [
    "# summarize the results\n",
    "model.summary()"
   ]
  },
  {
   "cell_type": "code",
   "execution_count": null,
   "metadata": {},
   "outputs": [],
   "source": [
    "# note that there is now no metabolic flux through the biomass reaction\n",
    "#model.reactions.Biomass_Ecoli_core.summary()  # gives an error because zero flux\n",
    "solution.fluxes.Biomass_Ecoli_core"
   ]
  },
  {
   "cell_type": "code",
   "execution_count": null,
   "metadata": {},
   "outputs": [],
   "source": []
  },
  {
   "cell_type": "markdown",
   "metadata": {},
   "source": [
    "## Perform an _in silico_ knock out"
   ]
  },
  {
   "cell_type": "code",
   "execution_count": null,
   "metadata": {},
   "outputs": [],
   "source": [
    "# first optimize biomass production to view the initial maximum flux value\n",
    "model.objective = 'Biomass_Ecoli_core'\n",
    "biomass_original = model.optimize().objective_value"
   ]
  },
  {
   "cell_type": "code",
   "execution_count": null,
   "metadata": {},
   "outputs": [],
   "source": [
    "# knock out the AKGDH reaction\n",
    "model.reactions.AKGDH.knock_out()\n",
    "model.reactions.AKGDH  # note that the upper and lower bound are now both zero"
   ]
  },
  {
   "cell_type": "markdown",
   "metadata": {},
   "source": [
    "The reaction is still present in the model, but it now cannot carry any flux. If we wanted to completely remove it from the model altogether, we could use the `remove_from_model` function: `model.reactions.AKGDH.remove_from_model()`"
   ]
  },
  {
   "cell_type": "code",
   "execution_count": null,
   "metadata": {},
   "outputs": [],
   "source": [
    "# now check the reaction again\n",
    "model.reactions.AKGDH"
   ]
  },
  {
   "cell_type": "code",
   "execution_count": null,
   "metadata": {},
   "outputs": [],
   "source": [
    "# in reality, genes are knocked out, not reactions\n",
    "# knock out a gene, and see what effect it has\n",
    "model.genes.b0008.knock_out()"
   ]
  },
  {
   "cell_type": "code",
   "execution_count": null,
   "metadata": {},
   "outputs": [],
   "source": [
    "model.genes.b0008"
   ]
  },
  {
   "cell_type": "code",
   "execution_count": null,
   "metadata": {},
   "outputs": [],
   "source": [
    "inactive_rxns = [rxn.id for rxn in model.reactions if rxn.upper_bound == rxn.lower_bound]\n",
    "inactive_rxns"
   ]
  },
  {
   "cell_type": "code",
   "execution_count": null,
   "metadata": {},
   "outputs": [],
   "source": [
    "model.reactions.ACALD"
   ]
  },
  {
   "cell_type": "code",
   "execution_count": null,
   "metadata": {},
   "outputs": [],
   "source": [
    "# need to knock out two isozymes for reaction (ACALD) to be inactivated\n",
    "model.genes.b0351.knock_out()\n",
    "model.genes.b1241.knock_out()"
   ]
  },
  {
   "cell_type": "code",
   "execution_count": null,
   "metadata": {},
   "outputs": [],
   "source": [
    "inactive_rxns = [rxn.id for rxn in model.reactions if rxn.upper_bound == rxn.lower_bound]\n",
    "inactive_rxns"
   ]
  },
  {
   "cell_type": "code",
   "execution_count": null,
   "metadata": {},
   "outputs": [],
   "source": []
  }
 ],
 "metadata": {
  "kernelspec": {
   "display_name": "Python 3",
   "language": "python",
   "name": "python3"
  },
  "language_info": {
   "codemirror_mode": {
    "name": "ipython",
    "version": 3
   },
   "file_extension": ".py",
   "mimetype": "text/x-python",
   "name": "python",
   "nbconvert_exporter": "python",
   "pygments_lexer": "ipython3",
   "version": "3.7.6"
  }
 },
 "nbformat": 4,
 "nbformat_minor": 4
}
