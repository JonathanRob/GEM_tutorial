{
 "cells": [
  {
   "cell_type": "markdown",
   "metadata": {},
   "source": [
    "# Extraction of gene set collections from Human-GEM"
   ]
  },
  {
   "cell_type": "code",
   "execution_count": null,
   "metadata": {},
   "outputs": [],
   "source": [
    "import cobra\n",
    "import os\n",
    "import numpy as np"
   ]
  },
  {
   "cell_type": "code",
   "execution_count": null,
   "metadata": {},
   "outputs": [],
   "source": [
    "# load model (note: may take 2-3 minutes to load)\n",
    "model = cobra.io.load_yaml_model(os.path.join('..', 'models', 'Human-GEM.yml'))"
   ]
  },
  {
   "cell_type": "markdown",
   "metadata": {},
   "source": [
    "## Subsystem-gene associations"
   ]
  },
  {
   "cell_type": "code",
   "execution_count": null,
   "metadata": {},
   "outputs": [],
   "source": [
    "# retrieve gene associations for all subsystems\n",
    "subsystems = np.unique([x.subsystem for x in model.reactions])\n",
    "gene_assoc = []\n",
    "for s in subsystems:\n",
    "    genes = [set(x.genes) for x in model.reactions if s in x.subsystem]\n",
    "    genes = list(set.union(*genes))\n",
    "    gene_assoc.append([x.id for x in genes])"
   ]
  },
  {
   "cell_type": "code",
   "execution_count": null,
   "metadata": {},
   "outputs": [],
   "source": [
    "# remove subsystems with no gene associations\n",
    "subsystems = [x for i,x in enumerate(subsystems) if len(gene_assoc[i]) > 0]\n",
    "gene_assoc = [x for x in gene_assoc if len(x) > 0]"
   ]
  },
  {
   "cell_type": "code",
   "execution_count": null,
   "metadata": {},
   "outputs": [],
   "source": [
    "# write subsystem-gene associations to .gmt file\n",
    "# Note that the second column in a .gmt file is a description field that we are not using ('NA').\n",
    "merged_list = ['\\t'.join([subsystems[i]] + ['na'] + gene_assoc[i]) + '\\n' for i in range(len(subsystems))]\n",
    "with open(os.path.join('..', 'data', 'gene_set_collections', 'HumanGEM_subsystem_GSC.gmt'), 'w') as f:\n",
    "    f.writelines(merged_list)"
   ]
  },
  {
   "cell_type": "markdown",
   "metadata": {},
   "source": [
    "## Metabolite-gene associations"
   ]
  },
  {
   "cell_type": "markdown",
   "metadata": {},
   "source": [
    "### Option 1: Including compartment\n",
    "Metabolites with identical name but different cellular location (compartment) will be treated as different metabolites"
   ]
  },
  {
   "cell_type": "code",
   "execution_count": null,
   "metadata": {},
   "outputs": [],
   "source": [
    "# combine metabolite names with their compartment abbreviation\n",
    "metabolites = [x.name + '[' + x.compartment + ']' for x in model.metabolites]"
   ]
  },
  {
   "cell_type": "code",
   "execution_count": null,
   "metadata": {},
   "outputs": [],
   "source": [
    "# retrieve gene associations for all metabolites\n",
    "gene_assoc = []\n",
    "for m in model.metabolites:\n",
    "    genes = [set(r.genes) for r in list(m.reactions)]\n",
    "    genes = list(set.union(*genes))\n",
    "    gene_assoc.append([x.id for x in genes])"
   ]
  },
  {
   "cell_type": "markdown",
   "metadata": {},
   "source": [
    "### Option 2: Excluding compartment\n",
    "Metabolites that have the same name but different cellular location (compartment) will be merged"
   ]
  },
  {
   "cell_type": "code",
   "execution_count": null,
   "metadata": {},
   "outputs": [],
   "source": [
    "# ignore compartments\n",
    "metabolites = np.unique([x.name for x in model.metabolites])"
   ]
  },
  {
   "cell_type": "code",
   "execution_count": null,
   "metadata": {},
   "outputs": [],
   "source": [
    "# retrieve gene associations for all metabolites\n",
    "gene_assoc = []\n",
    "for met_name in metabolites:\n",
    "    reactions = [set(m.reactions) for m in model.metabolites if m.name == met_name]\n",
    "    reactions = list(set.union(*reactions))\n",
    "    genes = [set(r.genes) for r in reactions]\n",
    "    genes = list(set.union(*genes))\n",
    "    gene_assoc.append([x.id for x in genes])"
   ]
  },
  {
   "cell_type": "markdown",
   "metadata": {},
   "source": [
    "### Process and write to file"
   ]
  },
  {
   "cell_type": "code",
   "execution_count": null,
   "metadata": {},
   "outputs": [],
   "source": [
    "# remove metabolites with no gene associations\n",
    "metabolites = [x for i,x in enumerate(metabolites) if len(gene_assoc[i]) > 0]\n",
    "gene_assoc = [x for x in gene_assoc if len(x) > 0]"
   ]
  },
  {
   "cell_type": "code",
   "execution_count": null,
   "metadata": {},
   "outputs": [],
   "source": [
    "# some metabolites contain an apostrophe, which can disrupt parsing by some packages\n",
    "metabolites = [x.replace(\"'\", \"\") for x in metabolites]"
   ]
  },
  {
   "cell_type": "code",
   "execution_count": null,
   "metadata": {},
   "outputs": [],
   "source": [
    "# write metabolite-gene associations to .gmt file\n",
    "# Note that the second column in a .gmt file is a description field that we are not using ('NA').\n",
    "merged_list = ['\\t'.join([metabolites[i]] + ['na'] + gene_assoc[i]) + '\\n' for i in range(len(metabolites))]\n",
    "with open(os.path.join('..', 'data', 'gene_set_collections', 'HumanGEM_metabolite_GSC.gmt'), 'w') as f:\n",
    "    f.writelines(merged_list)"
   ]
  },
  {
   "cell_type": "code",
   "execution_count": null,
   "metadata": {},
   "outputs": [],
   "source": []
  }
 ],
 "metadata": {
  "kernelspec": {
   "display_name": "Python 3",
   "language": "python",
   "name": "python3"
  },
  "language_info": {
   "codemirror_mode": {
    "name": "ipython",
    "version": 3
   },
   "file_extension": ".py",
   "mimetype": "text/x-python",
   "name": "python",
   "nbconvert_exporter": "python",
   "pygments_lexer": "ipython3",
   "version": "3.7.6"
  }
 },
 "nbformat": 4,
 "nbformat_minor": 4
}
